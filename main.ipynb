{
  "cells": [
    {
      "cell_type": "raw",
      "metadata": {},
      "source": [
        "---\n",
        "title: Exoplanet Detection With Lightcurves\n",
        "format: html\n",
        "---"
      ]
    },
    {
      "cell_type": "markdown",
      "metadata": {},
      "source": [
        "## Download and Unzip Star Data"
      ]
    },
    {
      "cell_type": "code",
      "metadata": {},
      "source": [
        "from urllib.request import urlopen\n",
        "from io import BytesIO\n",
        "from zipfile import ZipFile\n",
        "\n",
        "def download_and_unzip(url: str, dest: str = '.'):\n",
        "    http_response = urlopen(url)\n",
        "    zipfile = ZipFile(BytesIO(http_response.read()))\n",
        "    zipfile.extractall(path = dest)\n",
        "\n",
        "product_group_id = ''\n",
        "url = '' + product_group_id\n",
        "dest = '/data/'\n",
        "\n",
        "# only uncomment when using a new url\n",
        "# download_and_unzip(url, dest)"
      ],
      "execution_count": null,
      "outputs": []
    }
  ],
  "metadata": {
    "kernelspec": {
      "name": "python3",
      "language": "python",
      "display_name": "Python 3 (ipykernel)"
    }
  },
  "nbformat": 4,
  "nbformat_minor": 4
}